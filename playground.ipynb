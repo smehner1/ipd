{
 "cells": [
  {
   "cell_type": "code",
   "execution_count": 1,
   "metadata": {},
   "outputs": [],
   "source": [
    "import pytricia\n",
    "pyt = pytricia.PyTricia()\n",
    "pyt[\"10.0.0.0/8\"] = 'a'\n",
    "pyt[\"10.1.0.0/16\"] = 'b'\n",
    "\n",
    "\n"
   ]
  },
  {
   "cell_type": "code",
   "execution_count": 18,
   "metadata": {},
   "outputs": [],
   "source": [
    "from collections import defaultdict\n",
    "def __multi_dict(K, type):\n",
    "    if K == 1:\n",
    "        return defaultdict(type)\n",
    "    else:\n",
    "        return defaultdict(lambda: __multi_dict(K-1, type))\n",
    "\n",
    "def __subnet_atts(self):\n",
    "    return {'last_seen': 0,  'ingress': defaultdict(int), \"total\": 0}\n",
    "def pytricia_init():\n",
    "    return pytricia.PyTricia(48)\n",
    "range_lookup_dict = __multi_dict(1, pytricia_init)  # defaultdict(lambda: pytricia.PyTricia())\n",
    "\n",
    "subnet_dict = __multi_dict(4, __subnet_atts)\n",
    "ipd_cache = __multi_dict(4, dict)\n",
    "netflow_data_dict = __multi_dict(3, int)\n"
   ]
  },
  {
   "cell_type": "code",
   "execution_count": 19,
   "metadata": {},
   "outputs": [
    {
     "ename": "NameError",
     "evalue": "name 'pytricia' is not defined",
     "output_type": "error",
     "traceback": [
      "\u001b[0;31m---------------------------------------------------------------------------\u001b[0m",
      "\u001b[0;31mNameError\u001b[0m                                 Traceback (most recent call last)",
      "\u001b[1;32m/home/mehneste/ipd_algo/playground.ipynb Zelle 3\u001b[0m in \u001b[0;36m<cell line: 19>\u001b[0;34m()\u001b[0m\n\u001b[1;32m     <a href='vscode-notebook-cell://ssh-remote%2Bbithouse/home/mehneste/ipd_algo/playground.ipynb#W2sdnNjb2RlLXJlbW90ZQ%3D%3D?line=18'>19</a>\u001b[0m \u001b[39mfor\u001b[39;00m ipv \u001b[39min\u001b[39;00m d\u001b[39m.\u001b[39mkeys():\n\u001b[1;32m     <a href='vscode-notebook-cell://ssh-remote%2Bbithouse/home/mehneste/ipd_algo/playground.ipynb#W2sdnNjb2RlLXJlbW90ZQ%3D%3D?line=19'>20</a>\u001b[0m     \u001b[39mfor\u001b[39;00m prefix \u001b[39min\u001b[39;00m d[ipv]\u001b[39m.\u001b[39mkeys():\n\u001b[0;32m---> <a href='vscode-notebook-cell://ssh-remote%2Bbithouse/home/mehneste/ipd_algo/playground.ipynb#W2sdnNjb2RlLXJlbW90ZQ%3D%3D?line=21'>22</a>\u001b[0m         range_lookup_dict[\u001b[39mint\u001b[39;49m(ipv)][prefix] \u001b[39m=\u001b[39m d[ipv][prefix]\n\u001b[1;32m     <a href='vscode-notebook-cell://ssh-remote%2Bbithouse/home/mehneste/ipd_algo/playground.ipynb#W2sdnNjb2RlLXJlbW90ZQ%3D%3D?line=22'>23</a>\u001b[0m d\n",
      "\u001b[1;32m/home/mehneste/ipd_algo/playground.ipynb Zelle 3\u001b[0m in \u001b[0;36mpytricia_init\u001b[0;34m()\u001b[0m\n\u001b[1;32m     <a href='vscode-notebook-cell://ssh-remote%2Bbithouse/home/mehneste/ipd_algo/playground.ipynb#W2sdnNjb2RlLXJlbW90ZQ%3D%3D?line=9'>10</a>\u001b[0m \u001b[39mdef\u001b[39;00m \u001b[39mpytricia_init\u001b[39m():\n\u001b[0;32m---> <a href='vscode-notebook-cell://ssh-remote%2Bbithouse/home/mehneste/ipd_algo/playground.ipynb#W2sdnNjb2RlLXJlbW90ZQ%3D%3D?line=10'>11</a>\u001b[0m     \u001b[39mreturn\u001b[39;00m pytricia\u001b[39m.\u001b[39mPyTricia(\u001b[39m48\u001b[39m)\n",
      "\u001b[0;31mNameError\u001b[0m: name 'pytricia' is not defined"
     ]
    }
   ],
   "source": [
    "import json\n",
    "base = \"/data/slow/mehner/ipd/algo/dump/parameter_study/q0.501_c1.0-0.375_cidr_max32-64_t60_e120_decaydefault\"\n",
    "ts = \"1605562200\"\n",
    "ext=\"json\"\n",
    "\n",
    "# with open(f\"{base}/{ts}_bundles.{ext}\", 'r') as j:\n",
    "#     bundle_dict = json.loads(j.read())\n",
    "\n",
    "# with open(f\"{base}/{ts}_cache.{ext}\", 'r') as j:\n",
    "#     ipd_cache = json.loads(j.read())\n",
    "    \n",
    "\n",
    "# with open(f\"{base}/{ts}.{ext}\", 'r') as j:\n",
    "#     subnet_dict = json.loads(j.read())\n",
    "\n",
    "with open(f\"{base}/{ts}_range_lpm.{ext}\", 'r') as j:\n",
    "    d = json.loads(j.read())\n",
    "\n",
    "print(d.keys())\n",
    "for ipv in d.keys():\n",
    "    for prefix in d[ipv].keys():\n",
    "    \n",
    "        range_lookup_dict[int(ipv)][prefix] = d[ipv][prefix]\n",
    "d\n",
    "# subnet_dict\n",
    "\n"
   ]
  }
 ],
 "metadata": {
  "kernelspec": {
   "display_name": "Python 3",
   "language": "python",
   "name": "python3"
  },
  "language_info": {
   "codemirror_mode": {
    "name": "ipython",
    "version": 3
   },
   "file_extension": ".py",
   "mimetype": "text/x-python",
   "name": "python",
   "nbconvert_exporter": "python",
   "pygments_lexer": "ipython3",
   "version": "3.8.10"
  },
  "orig_nbformat": 4,
  "vscode": {
   "interpreter": {
    "hash": "31f2aee4e71d21fbe5cf8b01ff0e069b9275f58929596ceb00d14d90e3e16cd6"
   }
  }
 },
 "nbformat": 4,
 "nbformat_minor": 2
}
