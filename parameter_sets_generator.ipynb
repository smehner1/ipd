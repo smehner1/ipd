{
 "cells": [
  {
   "attachments": {},
   "cell_type": "markdown",
   "metadata": {},
   "source": [
    "# Parameter Set Generator"
   ]
  },
  {
   "cell_type": "code",
   "execution_count": 2,
   "metadata": {},
   "outputs": [
    {
     "name": "stdout",
     "output_type": "stream",
     "text": [
      "# combinations: 40\n",
      "parameter_study_starter_bithouse.sh\n",
      "40\n"
     ]
    }
   ],
   "source": [
    "from itertools import product\n",
    "import os\n",
    "SPLIT_MACHINES = 2\n",
    "\n",
    "#starter_filenames_path=\"starter_scripts/factor_screening\"\n",
    "starter_filenames_path = \"starter_scripts/parameter_study_099\"\n",
    "os.makedirs(starter_filenames_path,exist_ok=True)\n",
    "starter_filenames = [\"parameter_study_starter_bithouse.sh\", \"parameter_study_starter_manni.sh\", \"parameter_study_starter_plum.sh\"]\n",
    "machines=['bithouse', 'manni', 'plum']\n",
    "\n",
    "\n",
    "nf_pathes = [\"/data/fast/mehner/ipd/netflow_merged_sorted_reduced\",  \"/home/stefan/WORK/ipd/netflow/netflow_merged_sorted_reduced\", \"/home/mehneste/WORK/ipd/netflow/netflow_merged_sorted_reduced\"]\n",
    "pypy_pathes = [\"/home/mehneste/pypy3.9-v7.3.9-linux64/bin/pypy\", \"/home/stefan/WORK/ipd/pypy3.9-v7.3.9-linux64/bin/pypy\", \"/home/mehneste/WORK/ipd/pypy3.9-v7.3.9-linux64/bin/pypy\"]\n",
    "\n",
    "\n",
    "\n",
    "\n",
    "netflow_files=[\"@000000000000001605556860.gz\", \"@000000000000001605560460.gz\", \"@000000000000001605564060.gz\", \"@000000000000001605567660.gz\", \"@000000000000001605571260.gz\", \"@000000000000001605574860.gz\", \"@000000000000001605578460.gz\", \"@000000000000001605582060.gz\", \"@000000000000001605585660.gz\", \"@000000000000001605589260.gz\", \"@000000000000001605592860.gz\", \"@000000000000001605596460.gz\", \"@000000000000001605600060.gz\",\n",
    "    \"@000000000000001605603660.gz\", \"@000000000000001605607260.gz\", \"@000000000000001605610860.gz\", \"@000000000000001605614460.gz\", \"@000000000000001605618060.gz\", \"@000000000000001605621660.gz\", \"@000000000000001605625260.gz\", \"@000000000000001605628860.gz\", \"@000000000000001605632460.gz\", \"@000000000000001605636060.gz\", \"@000000000000001605639660.gz\", \"@000000000000001605643260.gz\"]\n",
    "\n",
    "\n",
    "c_factor=0.375\n",
    "\n",
    "def split_list(a, n=2):\n",
    "    k, m = divmod(len(a), n)\n",
    "    return (a[i*k+min(i, m):(i+1)*k+min(i+1, m)] for i in range(n))\n",
    "\n",
    "# FACTOR SCREENING PARAMETERS\n",
    "# t_values = [60]\n",
    "# e_values = [120, 7200]\n",
    "# q_values = [0.501, 0.95, 0.99]\n",
    "# c4_values = [8, 64, 100] # min 8\n",
    "# # a min value below 7 would lead to no results\n",
    "# cidr_max4_values = [12, 28, 30]\n",
    "# cidr_max6_values = {12: 24, 28: 48, 30: 54}  # max 64 possible\n",
    "# decay_values = ['default', 'none']  # 'stefan', 'linear',\n",
    "\n",
    "\n",
    "# PARAMETER STUDY PARAMETERS\n",
    "t_values = [60]\n",
    "e_values = [120]\n",
    "q_values = [0.99] #[0.501, 0.7, 0.8, 0.95]\n",
    "c4_values = [32, 48, 64, 80]  # min 8\n",
    "# a min value below 7 would lead to no results\n",
    "cidr_max4_values = [20, 21, 22, 23, 24, 25, 26, 27, 28, 29]\n",
    "cidr_max6_values = {12: 24, 20:32, 21:34, 22:36, 23: 38, 24: 40, 25: 42, 26: 44, 27: 46,  28: 48, 29: 51, 30: 54}  # max 64 possible\n",
    "decay_values = ['default']  # 'stefan', 'linear',\n",
    "\n",
    "#parameter_sets = list(product(t_values,e_values,q_values,c4_values,c6_values,cidr_max4_values,cidr_max6_values,decay_values))\n",
    "parameter_sets = list(product(t_values,e_values,q_values,c4_values,cidr_max4_values,decay_values))\n",
    "print(f\"# combinations: {len(parameter_sets)}\")\n",
    "# print(parameter_sets[:10])\n",
    "\n",
    "\n",
    "\n",
    "# 30 = WARNING\n",
    "# 20 = INFO\n",
    "loglevel=30\n",
    "\n",
    "\n",
    "\n",
    "\n",
    "\n",
    "# # zcat | /home/mehneste/pypy3.9-v7.3.9-linux64/bin/pypy algo.py -t=300 -e=120 -q=0.95 -c4=64 -c6=24 -cidrmax4=28 -cidrmax6=48 -decay='default' -loglevel=30\n",
    "elem_selector=0\n",
    "\n",
    "job_lists = list(split_list(parameter_sets, SPLIT_MACHINES))\n",
    "\n",
    "for l in job_lists:\n",
    "    print(starter_filenames[elem_selector])\n",
    "\n",
    "    print(len(l))\n",
    "\n",
    "    f = open(f\"{starter_filenames_path}/{starter_filenames[elem_selector]}\", \"w\")\n",
    "    nf_files = [f\"{nf_pathes[elem_selector]}/{i}\" for i in netflow_files]\n",
    "    nf_files = \" \".join(nf_files)\n",
    "    for t, e, q, c4, cidr_max4, decay in l:\n",
    "        cmd = f'''zcat {nf_files} | {pypy_pathes[elem_selector]} algo.py -q={q} -c4={c4} -c6={c4*c_factor} -cidrmax4={cidr_max4} -cidrmax6={cidr_max6_values.get(cidr_max4)} -t={t} -e={e} -decay='{decay}' -loglevel=30  # q{q}_c{c4}-{c4*c_factor}_cidr_max{cidr_max4}-{cidr_max6_values.get(cidr_max4)}_t{t}_e{e}_decay{decay}_{machines[elem_selector]}'''\n",
    "\n",
    "        if e < t: continue\n",
    "        #print(t, e, q, c4,c6, cidr_max4, cidr_max6, decay)\n",
    "        #print(cmd)\n",
    "        f.write(cmd + \"\\n\")\n",
    "\n",
    "    f.close()\n",
    "    \n",
    "    elem_selector+=1\n",
    "\n",
    "\n",
    "# start it in that way:\n",
    "# parallel -j 100 --bar --eta -a parameter_study_starter.sh\n"
   ]
  },
  {
   "cell_type": "code",
   "execution_count": 20,
   "metadata": {},
   "outputs": [
    {
     "name": "stdout",
     "output_type": "stream",
     "text": [
      "36\n",
      "36\n",
      "36\n"
     ]
    }
   ],
   "source": [
    "job_lists = list(split_list(parameter_sets, 3))\n",
    "\n",
    "for l in job_lists:\n",
    "    print(len(l))\n",
    "# for i in :\n",
    "#     # for j in i: \n",
    "#         print (i)\n",
    "\n"
   ]
  },
  {
   "cell_type": "code",
   "execution_count": null,
   "metadata": {},
   "outputs": [],
   "source": []
  }
 ],
 "metadata": {
  "kernelspec": {
   "display_name": "Python 3",
   "language": "python",
   "name": "python3"
  },
  "language_info": {
   "codemirror_mode": {
    "name": "ipython",
    "version": 3
   },
   "file_extension": ".py",
   "mimetype": "text/x-python",
   "name": "python",
   "nbconvert_exporter": "python",
   "pygments_lexer": "ipython3",
   "version": "3.8.10"
  },
  "orig_nbformat": 4,
  "vscode": {
   "interpreter": {
    "hash": "31f2aee4e71d21fbe5cf8b01ff0e069b9275f58929596ceb00d14d90e3e16cd6"
   }
  }
 },
 "nbformat": 4,
 "nbformat_minor": 2
}
