{
 "cells": [
  {
   "cell_type": "markdown",
   "metadata": {},
   "source": [
    "# Factor Screening"
   ]
  },
  {
   "cell_type": "code",
   "execution_count": 12,
   "metadata": {},
   "outputs": [
    {
     "name": "stdout",
     "output_type": "stream",
     "text": [
      "# combinations: 108\n"
     ]
    }
   ],
   "source": [
    "from itertools import product\n",
    "starter_filenames = [\"parameter_study_starter_bithouse.sh\", \"parameter_study_starter_manni.sh\"]\n",
    "\n",
    "nf_pathes= [\"/data/fast/mehner/ipd/netflow_merged_sorted_reduced\",  \"/home/stefan/WORK/ipd/netflow/netflow_merged_sorted_reduced\"]\n",
    "pypy_pathes = [\"/home/mehneste/pypy3.9-v7.3.9-linux64/bin/pypy\",\"/home/stefan/WORK/ipd/pypy3.9-v7.3.9-linux64/bin/pypy\"]\n",
    "\n",
    "\n",
    "netflow_files=[\"@000000000000001605556860.gz\", \"@000000000000001605560460.gz\", \"@000000000000001605564060.gz\", \"@000000000000001605567660.gz\", \"@000000000000001605571260.gz\", \"@000000000000001605574860.gz\", \"@000000000000001605578460.gz\", \"@000000000000001605582060.gz\", \"@000000000000001605585660.gz\", \"@000000000000001605589260.gz\", \"@000000000000001605592860.gz\", \"@000000000000001605596460.gz\", \"@000000000000001605600060.gz\",\n",
    "    \"@000000000000001605603660.gz\", \"@000000000000001605607260.gz\", \"@000000000000001605610860.gz\", \"@000000000000001605614460.gz\", \"@000000000000001605618060.gz\", \"@000000000000001605621660.gz\", \"@000000000000001605625260.gz\", \"@000000000000001605628860.gz\", \"@000000000000001605632460.gz\", \"@000000000000001605636060.gz\", \"@000000000000001605639660.gz\", \"@000000000000001605643260.gz\"]\n",
    "\n",
    "\n",
    "c_factor=0.375\n",
    "\n",
    "\n",
    "def split_list(a_list):\n",
    "    half = len(a_list)//2\n",
    "    return a_list[:half], a_list[half:]\n",
    "\n",
    "#### \n",
    "#### start with some more simple runs\n",
    "####\n",
    "# t_values=[5, 60, 3600]\n",
    "# e_values=[10, 120, 7200]\n",
    "# q_values=[0.501, 0.8, 0.95, 0.99]\n",
    "# c4_values=[4, 64, 100]\n",
    "# c6_values_old= list(map(lambda x: x*c_factor, c4_values))\n",
    "# c6_values = {4: 1.5, 64: 24, 100: 37.5}\n",
    "# # a min value below 7 would lead to no results\n",
    "# cidr_max4_values =[7, 28, 32]\n",
    "# cidr_max6_values_old  = [7, 48, 64] #max 64 possible\n",
    "# cidr_max6_values = {7: 24, 28: 48, 32: 64}  # max 64 possible\n",
    "# decay_values = ['default', 'none']  # 'stefan', 'linear',\n",
    "\n",
    "\n",
    "t_values = [60]\n",
    "e_values = [120, 7200]\n",
    "q_values = [0.501, 0.95, 0.99]\n",
    "c4_values = [1, 64, 100]\n",
    "# a min value below 7 would lead to no results\n",
    "cidr_max4_values = [12, 28, 32]\n",
    "cidr_max6_values = {12: 24, 28: 48, 32: 64}  # max 64 possible\n",
    "decay_values = ['default', 'none']  # 'stefan', 'linear',\n",
    "\n",
    "\n",
    "#parameter_sets = list(product(t_values,e_values,q_values,c4_values,c6_values,cidr_max4_values,cidr_max6_values,decay_values))\n",
    "parameter_sets = list(product(t_values,e_values,q_values,c4_values,cidr_max4_values,decay_values))\n",
    "print(f\"# combinations: {len(parameter_sets)}\")\n",
    "# print(parameter_sets[:10])\n",
    "\n",
    "\n",
    "\n",
    "# 30 = WARNING\n",
    "# 20 = INFO\n",
    "loglevel=30\n",
    "\n",
    "\n",
    "\n",
    "\n",
    "\n",
    "# # zcat | /home/mehneste/pypy3.9-v7.3.9-linux64/bin/pypy algo.py -t=300 -e=120 -q=0.95 -c4=64 -c6=24 -cidrmax4=28 -cidrmax6=48 -decay='default' -loglevel=30\n",
    "elem_selector=0\n",
    "for l in split_list(parameter_sets):\n",
    "    f = open(starter_filenames[elem_selector], \"w\")\n",
    "    nf_files = [f\"{nf_pathes[elem_selector]}/{i}\" for i in netflow_files]\n",
    "    nf_files = \" \".join(nf_files)\n",
    "    for t, e, q, c4, cidr_max4, decay in parameter_sets:\n",
    "        cmd = f'''zcat {nf_files} | {pypy_pathes[elem_selector]} algo.py -t={t} -e={e} -q={q} -c4={c4} -c6={c4*c_factor} -cidrmax4={cidr_max4} -cidrmax6={cidr_max6_values.get(cidr_max4)} -decay='{decay}' -loglevel=30 '''\n",
    "        if e < t: continue\n",
    "        #print(t, e, q, c4,c6, cidr_max4, cidr_max6, decay)\n",
    "        #print(cmd)\n",
    "        f.write(cmd + \"\\n\")\n",
    "\n",
    "    f.close()\n",
    "    elem_selector=+1\n",
    "\n",
    "\n",
    "# start it in that way:\n",
    "# parallel -j 100 --bar --eta -a parameter_study_starter.sh\n"
   ]
  },
  {
   "cell_type": "code",
   "execution_count": 9,
   "metadata": {},
   "outputs": [
    {
     "data": {
      "text/plain": [
       "'/data/fast/mehner/ipd/netflow_merged_sorted//@000000000000001605556860.gz /data/fast/mehner/ipd/netflow_merged_sorted//@000000000000001605560460.gz /data/fast/mehner/ipd/netflow_merged_sorted//@000000000000001605564060.gz /data/fast/mehner/ipd/netflow_merged_sorted//@000000000000001605567660.gz /data/fast/mehner/ipd/netflow_merged_sorted//@000000000000001605571260.gz /data/fast/mehner/ipd/netflow_merged_sorted//@000000000000001605574860.gz /data/fast/mehner/ipd/netflow_merged_sorted//@000000000000001605578460.gz /data/fast/mehner/ipd/netflow_merged_sorted//@000000000000001605582060.gz /data/fast/mehner/ipd/netflow_merged_sorted//@000000000000001605585660.gz /data/fast/mehner/ipd/netflow_merged_sorted//@000000000000001605589260.gz /data/fast/mehner/ipd/netflow_merged_sorted//@000000000000001605592860.gz /data/fast/mehner/ipd/netflow_merged_sorted//@000000000000001605596460.gz /data/fast/mehner/ipd/netflow_merged_sorted//@000000000000001605600060.gz /data/fast/mehner/ipd/netflow_merged_sorted//@000000000000001605603660.gz /data/fast/mehner/ipd/netflow_merged_sorted//@000000000000001605607260.gz /data/fast/mehner/ipd/netflow_merged_sorted//@000000000000001605610860.gz /data/fast/mehner/ipd/netflow_merged_sorted//@000000000000001605614460.gz /data/fast/mehner/ipd/netflow_merged_sorted//@000000000000001605618060.gz /data/fast/mehner/ipd/netflow_merged_sorted//@000000000000001605621660.gz /data/fast/mehner/ipd/netflow_merged_sorted//@000000000000001605625260.gz /data/fast/mehner/ipd/netflow_merged_sorted//@000000000000001605628860.gz /data/fast/mehner/ipd/netflow_merged_sorted//@000000000000001605632460.gz /data/fast/mehner/ipd/netflow_merged_sorted//@000000000000001605636060.gz /data/fast/mehner/ipd/netflow_merged_sorted//@000000000000001605639660.gz /data/fast/mehner/ipd/netflow_merged_sorted//@000000000000001605643260.gz'"
      ]
     },
     "execution_count": 9,
     "metadata": {},
     "output_type": "execute_result"
    }
   ],
   "source": [
    "\n",
    "nf_files = [f\"{nf_pathes[elem_selector]}/{i}\" for i in netflow_files]\n",
    "nf_files = \" \".join(nf_files)\n",
    "nf_files"
   ]
  },
  {
   "cell_type": "code",
   "execution_count": null,
   "metadata": {},
   "outputs": [],
   "source": []
  }
 ],
 "metadata": {
  "kernelspec": {
   "display_name": "Python 3",
   "language": "python",
   "name": "python3"
  },
  "language_info": {
   "codemirror_mode": {
    "name": "ipython",
    "version": 3
   },
   "file_extension": ".py",
   "mimetype": "text/x-python",
   "name": "python",
   "nbconvert_exporter": "python",
   "pygments_lexer": "ipython3",
   "version": "3.8.10"
  },
  "orig_nbformat": 4,
  "vscode": {
   "interpreter": {
    "hash": "31f2aee4e71d21fbe5cf8b01ff0e069b9275f58929596ceb00d14d90e3e16cd6"
   }
  }
 },
 "nbformat": 4,
 "nbformat_minor": 2
}
