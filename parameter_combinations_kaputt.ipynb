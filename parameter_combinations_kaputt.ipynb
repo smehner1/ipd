{
 "cells": [
  {
   "cell_type": "markdown",
   "metadata": {},
   "source": [
    "# Factor Screening"
   ]
  },
  {
   "cell_type": "code",
   "execution_count": 1,
   "metadata": {},
   "outputs": [
    {
     "name": "stdout",
     "output_type": "stream",
     "text": [
      "# combinations: 1215\n"
     ]
    }
   ],
   "source": [
    "from itertools import product\n",
    "starter_filename=\"parameter_study_starter.sh\"\n",
    "\n",
    "c_factor=0.375\n",
    "\n",
    "t_values=[5, 60, 3600]\n",
    "e_values=[10, 120, 7200]\n",
    "q_values=[0.501, 0.8, 0.95, 0.99]\n",
    "c4_values=[0.001, 64, 100]\n",
    "c6_values_old= list(map(lambda x: x*c_factor, c4_values))\n",
    "c6_values = {0.001: 0.375, 64: 24, 100: 37.5}\n",
    "# a min value below 7 would lead to no results\n",
    "cidr_max4_values =[7, 28, 32]\n",
    "cidr_max6_values_old  = [7, 48, 64] #max 64 possible\n",
    "cidr_max6_values = {7: 7, 28: 48, 32: 64}  # max 64 possible\n",
    "decay_values = ['default', 'none']  # 'stefan', 'linear',\n",
    "\n",
    "\n",
    "#parameter_sets = list(product(t_values,e_values,q_values,c4_values,c6_values,cidr_max4_values,cidr_max6_values,decay_values))\n",
    "parameter_sets = list(product(t_values,e_values,q_values,c4_values,cidr_max4_values,decay_values))\n",
    "print(f\"# combinations: {len(parameter_sets)}\")\n",
    "# print(parameter_sets[:10])\n",
    "\n",
    "\n",
    "netflow_files = '''/data/fast/mehner/ipd/netflow_merged_sorted/@000000000000001605556860.gz /data/fast/mehner/ipd/netflow_merged_sorted/@000000000000001605560460.gz /data/fast/mehner/ipd/netflow_merged_sorted/@000000000000001605564060.gz /data/fast/mehner/ipd/netflow_merged_sorted/@000000000000001605567660.gz /data/fast/mehner/ipd/netflow_merged_sorted/@000000000000001605571260.gz /data/fast/mehner/ipd/netflow_merged_sorted/@000000000000001605574860.gz /data/fast/mehner/ipd/netflow_merged_sorted/@000000000000001605578460.gz /data/fast/mehner/ipd/netflow_merged_sorted/@000000000000001605582060.gz /data/fast/mehner/ipd/netflow_merged_sorted/@000000000000001605585660.gz /data/fast/mehner/ipd/netflow_merged_sorted/@000000000000001605589260.gz /data/fast/mehner/ipd/netflow_merged_sorted/@000000000000001605592860.gz /data/fast/mehner/ipd/netflow_merged_sorted/@000000000000001605596460.gz /data/fast/mehner/ipd/netflow_merged_sorted/@000000000000001605600060.gz /data/fast/mehner/ipd/netflow_merged_sorted/@000000000000001605603660.gz /data/fast/mehner/ipd/netflow_merged_sorted/@000000000000001605607260.gz /data/fast/mehner/ipd/netflow_merged_sorted/@000000000000001605610860.gz /data/fast/mehner/ipd/netflow_merged_sorted/@000000000000001605614460.gz /data/fast/mehner/ipd/netflow_merged_sorted/@000000000000001605618060.gz /data/fast/mehner/ipd/netflow_merged_sorted/@000000000000001605621660.gz /data/fast/mehner/ipd/netflow_merged_sorted/@000000000000001605625260.gz /data/fast/mehner/ipd/netflow_merged_sorted/@000000000000001605628860.gz /data/fast/mehner/ipd/netflow_merged_sorted/@000000000000001605632460.gz /data/fast/mehner/ipd/netflow_merged_sorted/@000000000000001605636060.gz /data/fast/mehner/ipd/netflow_merged_sorted/@000000000000001605639660.gz /data/fast/mehner/ipd/netflow_merged_sorted/@000000000000001605643260.gz'''\n",
    "\n",
    "# 30 = WARNING\n",
    "# 20 = INFO\n",
    "loglevel=30\n",
    "\n",
    "f = open(starter_filename, \"w\")\n",
    "\n",
    "# zcat | /home/mehneste/pypy3.9-v7.3.9-linux64/bin/pypy algo.py -t=300 -e=120 -q=0.95 -c4=64 -c6=24 -cidrmax4=28 -cidrmax6=48 -decay='default' -loglevel=30\n",
    "for t, e, q, c4, cidr_max4, decay in parameter_sets:\n",
    "    cmd = f'''zcat {netflow_files} | /home/mehneste/pypy3.9-v7.3.9-linux64/bin/pypy algo.py -t={t} -e={e} -q={q} -c4={c4} -c6={c6_values.get(c4)} -cidrmax4={cidr_max4} -cidrmax6={cidr_max6_values.get(cidr_max4)} -decay='{decay}' -loglevel=30 '''\n",
    "    if e < t: continue\n",
    "    #print(t, e, q, c4,c6, cidr_max4, cidr_max6, decay)\n",
    "    #print(cmd)\n",
    "    f.write(cmd + \"\\n\")\n",
    "\n",
    "f.close()\n",
    "\n",
    "\n",
    "# start it in that way:\n",
    "# parallel -j 100 --bar --eta -a parameter_study_starter.sh\n"
   ]
  }
 ],
 "metadata": {
  "kernelspec": {
   "display_name": "Python 3",
   "language": "python",
   "name": "python3"
  },
  "language_info": {
   "codemirror_mode": {
    "name": "ipython",
    "version": 3
   },
   "file_extension": ".py",
   "mimetype": "text/x-python",
   "name": "python",
   "nbconvert_exporter": "python",
   "pygments_lexer": "ipython3",
   "version": "3.8.10"
  },
  "orig_nbformat": 4,
  "vscode": {
   "interpreter": {
    "hash": "31f2aee4e71d21fbe5cf8b01ff0e069b9275f58929596ceb00d14d90e3e16cd6"
   }
  }
 },
 "nbformat": 4,
 "nbformat_minor": 2
}
